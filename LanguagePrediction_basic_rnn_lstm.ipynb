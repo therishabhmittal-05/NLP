{
  "nbformat": 4,
  "nbformat_minor": 0,
  "metadata": {
    "colab": {
      "provenance": [],
      "gpuType": "T4",
      "mount_file_id": "1yhndA8PCRxxH6RT0nMR60rDLbETs-vWn",
      "authorship_tag": "ABX9TyNiwQbTjV6zW4AAKeyDxSLr",
      "include_colab_link": true
    },
    "kernelspec": {
      "name": "python3",
      "display_name": "Python 3"
    },
    "language_info": {
      "name": "python"
    },
    "accelerator": "GPU"
  },
  "cells": [
    {
      "cell_type": "markdown",
      "metadata": {
        "id": "view-in-github",
        "colab_type": "text"
      },
      "source": [
        "<a href=\"https://colab.research.google.com/github/therishabhmittal-05/NLP/blob/main/LanguagePrediction_basic_rnn_lstm.ipynb\" target=\"_parent\"><img src=\"https://colab.research.google.com/assets/colab-badge.svg\" alt=\"Open In Colab\"/></a>"
      ]
    },
    {
      "cell_type": "markdown",
      "source": [
        "## **Given the word, predict which language it belongs to.**"
      ],
      "metadata": {
        "id": "wgmdz8BEXlL2"
      }
    },
    {
      "cell_type": "code",
      "execution_count": 1,
      "metadata": {
        "id": "-N2k1nFpHZ9w"
      },
      "outputs": [],
      "source": [
        "import torch\n",
        "import torch.nn as nn\n",
        "import numpy as np\n",
        "import random\n",
        "import string\n",
        "import unicodedata\n",
        "from torch.utils.data import Dataset, random_split\n",
        "import glob\n",
        "import os\n",
        "import time\n",
        "import matplotlib.pyplot as plt\n",
        "import matplotlib.ticker as ticker"
      ]
    },
    {
      "cell_type": "code",
      "source": [
        "device = torch.device('cuda' if torch.cuda.is_available() else 'cpu')\n",
        "print(device)"
      ],
      "metadata": {
        "colab": {
          "base_uri": "https://localhost:8080/"
        },
        "id": "i3mGjTINLuHO",
        "outputId": "a8d08ffe-9546-4171-b3bf-2d0ba58bf0b4"
      },
      "execution_count": 2,
      "outputs": [
        {
          "output_type": "stream",
          "name": "stdout",
          "text": [
            "cuda\n"
          ]
        }
      ]
    },
    {
      "cell_type": "code",
      "source": [
        "allowed_chars = string.ascii_letters + \" .,;'\"+ \"_\"\n",
        "n_letters = len(allowed_chars)\n",
        "\n",
        "def unicode_ascii(s):\n",
        "  return \"\".join(\n",
        "      c for c in unicodedata.normalize(\"NFD\", s)\n",
        "      if unicodedata.category(c) != 'Mn'\n",
        "      and c in allowed_chars\n",
        "  )"
      ],
      "metadata": {
        "id": "X54vCHgAHnWF"
      },
      "execution_count": 3,
      "outputs": []
    },
    {
      "cell_type": "code",
      "source": [
        "print(unicode_ascii('Ślusàrski'))"
      ],
      "metadata": {
        "colab": {
          "base_uri": "https://localhost:8080/"
        },
        "id": "WRLyL_ZYJDTP",
        "outputId": "ecbc8bb7-0e70-4d7e-95aa-66822a460838"
      },
      "execution_count": 4,
      "outputs": [
        {
          "output_type": "stream",
          "name": "stdout",
          "text": [
            "Slusarski\n"
          ]
        }
      ]
    },
    {
      "cell_type": "code",
      "source": [
        "# Letter to index\n",
        "def letter_index(letter):\n",
        "  if letter not in allowed_chars:\n",
        "    return allowed_chars.find('_')\n",
        "  else:\n",
        "     return allowed_chars.find(letter)\n",
        "\n",
        "# Sentence to tensor\n",
        "def sent_tensor(sent):\n",
        "  tensor = torch.zeros(len(sent), 1, n_letters)\n",
        "  for li, letter in enumerate(sent):\n",
        "    tensor[li][0][letter_index(letter)] = 1\n",
        "  return tensor"
      ],
      "metadata": {
        "id": "Mal5OIc1Jj5S"
      },
      "execution_count": 5,
      "outputs": []
    },
    {
      "cell_type": "code",
      "source": [
        "ex = sent_tensor('Rishabh Mittal')\n",
        "# sent_tensor('$')\n",
        "ex[0]"
      ],
      "metadata": {
        "colab": {
          "base_uri": "https://localhost:8080/"
        },
        "id": "__HgLHDkKtR9",
        "outputId": "4949faf6-66be-4523-ba79-ad778df3bb0b"
      },
      "execution_count": 11,
      "outputs": [
        {
          "output_type": "execute_result",
          "data": {
            "text/plain": [
              "tensor([[0., 0., 0., 0., 0., 0., 0., 0., 0., 0., 0., 0., 0., 0., 0., 0., 0., 0.,\n",
              "         0., 0., 0., 0., 0., 0., 0., 0., 0., 0., 0., 0., 0., 0., 0., 0., 0., 0.,\n",
              "         0., 0., 0., 0., 0., 0., 0., 1., 0., 0., 0., 0., 0., 0., 0., 0., 0., 0.,\n",
              "         0., 0., 0., 0.]])"
            ]
          },
          "metadata": {},
          "execution_count": 11
        }
      ]
    },
    {
      "cell_type": "code",
      "source": [
        "class LangDs(Dataset):\n",
        "\n",
        "  def __init__(self, data_dir):\n",
        "    self.data_dir = data_dir\n",
        "    labels_set = set()\n",
        "\n",
        "    self.data = []\n",
        "    self.data_tensors = []\n",
        "    self.labels = []\n",
        "    self.label_tensors=[]\n",
        "\n",
        "    text_files = glob.glob(os.path.join(data_dir, '*txt'))\n",
        "    for filename in text_files:\n",
        "      label = os.path.splitext(os.path.basename(filename))[0]\n",
        "      labels_set.add(label)\n",
        "      lines = open(filename, encoding='utf-8').read().strip().split('\\n')\n",
        "      for name in lines:\n",
        "        self.data.append(name)\n",
        "        self.data_tensors.append(sent_tensor(name))\n",
        "        self.labels.append(label)\n",
        "\n",
        "    self.labels_uniq = sorted(list(labels_set))\n",
        "    for idx in range(len(self.labels)):\n",
        "      temp_tensor = torch.tensor([self.labels_uniq.index(self.labels[idx])], dtype=torch.long)\n",
        "      self.label_tensors.append(temp_tensor)\n",
        "\n",
        "  def __len__(self):\n",
        "    return len(self.data)\n",
        "\n",
        "  def __getitem__(self, idx):\n",
        "    data_item = self.data[idx]\n",
        "    data_label = self.labels[idx]\n",
        "    data_tensor = self.data_tensors[idx]\n",
        "    label_tensor = self.label_tensors[idx]\n",
        "\n",
        "    return data_item, data_label, data_tensor, label_tensor"
      ],
      "metadata": {
        "id": "UCnXShkSKvXV"
      },
      "execution_count": 47,
      "outputs": []
    },
    {
      "cell_type": "code",
      "source": [
        "alldata = LangDs('/content/drive/MyDrive/Colab Notebooks/data/data/names')"
      ],
      "metadata": {
        "id": "Ax2_oqykNAqr"
      },
      "execution_count": 48,
      "outputs": []
    },
    {
      "cell_type": "code",
      "source": [
        "test = set()\n",
        "for i in range(len(alldata)):\n",
        "  test.add(alldata[i][3].item())\n",
        "\n",
        "test"
      ],
      "metadata": {
        "colab": {
          "base_uri": "https://localhost:8080/"
        },
        "id": "c8H_GbcALtIY",
        "outputId": "3de623dc-5da3-40e0-c9bf-ebe6d742a79d"
      },
      "execution_count": 49,
      "outputs": [
        {
          "output_type": "execute_result",
          "data": {
            "text/plain": [
              "{0, 1, 2, 3, 4, 5, 6, 7, 8, 9, 10, 11, 12, 13, 14, 15, 16, 17}"
            ]
          },
          "metadata": {},
          "execution_count": 49
        }
      ]
    },
    {
      "cell_type": "code",
      "source": [
        "test1 = set()\n",
        "for i in range(len(alldata)):\n",
        "  test1.add(alldata[i][1])\n",
        "\n",
        "test1"
      ],
      "metadata": {
        "colab": {
          "base_uri": "https://localhost:8080/"
        },
        "id": "y8rwXGDrNEAD",
        "outputId": "96a26f3e-d158-40b3-d87d-75cbc3b62b64"
      },
      "execution_count": 50,
      "outputs": [
        {
          "output_type": "execute_result",
          "data": {
            "text/plain": [
              "{'Arabic',\n",
              " 'Chinese',\n",
              " 'Czech',\n",
              " 'Dutch',\n",
              " 'English',\n",
              " 'French',\n",
              " 'German',\n",
              " 'Greek',\n",
              " 'Irish',\n",
              " 'Italian',\n",
              " 'Japanese',\n",
              " 'Korean',\n",
              " 'Polish',\n",
              " 'Portuguese',\n",
              " 'Russian',\n",
              " 'Scottish',\n",
              " 'Spanish',\n",
              " 'Vietnamese'}"
            ]
          },
          "metadata": {},
          "execution_count": 50
        }
      ]
    },
    {
      "cell_type": "code",
      "source": [
        "train_set, val_set = random_split(alldata,\n",
        " [(int)(len(alldata)*0.85), len(alldata) - (int)(len(alldata)*0.85)],\n",
        "                                  generator=torch.Generator().manual_seed(42))"
      ],
      "metadata": {
        "id": "WDkfP-78P7Ej"
      },
      "execution_count": 51,
      "outputs": []
    },
    {
      "cell_type": "code",
      "source": [
        "print(len(train_set))"
      ],
      "metadata": {
        "colab": {
          "base_uri": "https://localhost:8080/"
        },
        "id": "gdGQcXff5WnD",
        "outputId": "a3a3e743-ebef-4e28-8316-2d987055b5a1"
      },
      "execution_count": 52,
      "outputs": [
        {
          "output_type": "stream",
          "name": "stdout",
          "text": [
            "17062\n"
          ]
        }
      ]
    },
    {
      "cell_type": "code",
      "source": [
        "val = set()\n",
        "for i in range(len(val_set)):\n",
        "  val.add(val_set[i][1])\n",
        "\n",
        "print(val)"
      ],
      "metadata": {
        "colab": {
          "base_uri": "https://localhost:8080/"
        },
        "id": "TyhXxUqedVUS",
        "outputId": "2c1fc4e2-505d-4327-9d89-6ab52884de96"
      },
      "execution_count": 53,
      "outputs": [
        {
          "output_type": "stream",
          "name": "stdout",
          "text": [
            "{'Chinese', 'French', 'Polish', 'Korean', 'Greek', 'Spanish', 'Arabic', 'German', 'English', 'Japanese', 'Scottish', 'Portuguese', 'Czech', 'Russian', 'Vietnamese', 'Italian', 'Irish', 'Dutch'}\n"
          ]
        }
      ]
    },
    {
      "cell_type": "code",
      "source": [
        "indices = list(range(len(train_set)))\n",
        "print(len(indices))\n",
        "random.shuffle(indices)\n",
        "batches = np.array_split(indices, len(indices) // 64)\n",
        "print(len(batches[37]))"
      ],
      "metadata": {
        "colab": {
          "base_uri": "https://localhost:8080/"
        },
        "id": "6jDLxGQxTOhW",
        "outputId": "00167982-4d50-437e-9ed9-fb17bcac2c08"
      },
      "execution_count": 54,
      "outputs": [
        {
          "output_type": "stream",
          "name": "stdout",
          "text": [
            "17062\n",
            "65\n"
          ]
        }
      ]
    },
    {
      "cell_type": "code",
      "source": [
        "class LangModel(nn.Module):\n",
        "  def __init__(self, input_size, hidden_size, output_size):\n",
        "    super(LangModel, self).__init__()\n",
        "\n",
        "    self.lstm = nn.LSTM(input_size, hidden_size)\n",
        "    self.fc = nn.Linear(hidden_size, output_size)\n",
        "    self.softmax = nn.LogSoftmax(dim=1)\n",
        "\n",
        "  def forward(self, senttensor):\n",
        "    lstm_out, (hn, cn) = self.lstm(senttensor)\n",
        "    ahat = self.fc(hn[-1])\n",
        "    yhat = self.softmax(ahat)\n",
        "    return yhat"
      ],
      "metadata": {
        "id": "V2S_K0ToqEZY"
      },
      "execution_count": 55,
      "outputs": []
    },
    {
      "cell_type": "code",
      "source": [
        "n_hidden = 128\n",
        "model = LangModel(n_letters, n_hidden, len(alldata.labels_uniq)).to(device)\n",
        "print(\"Device: cuda\" if next(model.parameters()).is_cuda else \"Device: cpu\")\n",
        "print(model)"
      ],
      "metadata": {
        "colab": {
          "base_uri": "https://localhost:8080/"
        },
        "id": "IbH0Htx4sMUw",
        "outputId": "c7a6e569-4797-4dfe-dacd-44f3849ff52c"
      },
      "execution_count": 56,
      "outputs": [
        {
          "output_type": "stream",
          "name": "stdout",
          "text": [
            "Device: cuda\n",
            "LangModel(\n",
            "  (lstm): LSTM(58, 128)\n",
            "  (fc): Linear(in_features=128, out_features=18, bias=True)\n",
            "  (softmax): LogSoftmax(dim=1)\n",
            ")\n"
          ]
        }
      ]
    },
    {
      "cell_type": "code",
      "source": [
        "input = sent_tensor('Alexandra').to(device)\n",
        "output = model(input)\n",
        "def get_label_from_output(output, output_labels):\n",
        "  _, top_i = output.topk(1)\n",
        "  label_i = top_i[0].item()\n",
        "  return output_labels[label_i], label_i\n",
        "print(get_label_from_output(output, alldata.labels_uniq))"
      ],
      "metadata": {
        "colab": {
          "base_uri": "https://localhost:8080/"
        },
        "id": "VOG4iUCLsZOA",
        "outputId": "69389fb9-43e1-46ba-d4ef-388023a24f0f"
      },
      "execution_count": 57,
      "outputs": [
        {
          "output_type": "stream",
          "name": "stdout",
          "text": [
            "('Japanese', 10)\n"
          ]
        }
      ]
    },
    {
      "cell_type": "code",
      "source": [
        "def train(model, train_data, n_epochs=10, batch_size=64, report=50, lr = 0.2, criterion = nn.NLLLoss()):\n",
        "  losses=[] # to store loss after each epoch for plotting\n",
        "  accuracies=[]\n",
        "  model.train() # train mode\n",
        "  optimizer = torch.optim.SGD(model.parameters(), lr=lr)\n",
        "  data_test = set()\n",
        "  print(f\"length of train data: {len(train_data)}\")\n",
        "  for iter in range(1, n_epochs+1):\n",
        "    running_loss = 0.0 # One epoch loss\n",
        "\n",
        "    # One epoch accuracy\n",
        "    correct = 0.0\n",
        "    total = 0.0\n",
        "\n",
        "    # create some minibatches\n",
        "    # we cannot use dataloaders because each of our names is a different length\n",
        "    indices = list(range(len(train_data)))\n",
        "    random.shuffle(indices)\n",
        "    batches = np.array_split(indices, max(1, len(indices) // batch_size))\n",
        "\n",
        "    for idx, batch in enumerate(batches):\n",
        "      batch_loss = 0.0 # per batch loss, added to running loss after each batch run\n",
        "      optimizer.zero_grad()\n",
        "\n",
        "      # For each sample in the batch\n",
        "      for i in batch:\n",
        "        (data_item, data_label, data_tensor, label_tensor) = train_data[i]\n",
        "        data_test.add(data_label)\n",
        "        data_tensor = data_tensor.to(device)\n",
        "        label_tensor = label_tensor.to(device)\n",
        "        output = model(data_tensor)\n",
        "        loss = criterion(output, label_tensor)\n",
        "        batch_loss += loss\n",
        "        predicted_label = torch.argmax(output, dim=1)\n",
        "        correct += (predicted_label == label_tensor).sum().item()\n",
        "        total += label_tensor.size(0)\n",
        "\n",
        "      batch_loss /= len(batch)\n",
        "      batch_loss.backward()\n",
        "      nn.utils.clip_grad_norm_(model.parameters(), max_norm=3)\n",
        "      optimizer.step()\n",
        "      running_loss += batch_loss.item()\n",
        "\n",
        "    epoch_loss = running_loss/len(batches)\n",
        "    losses.append(epoch_loss)\n",
        "\n",
        "    epoch_acc = correct/total\n",
        "    accuracies.append(epoch_acc)\n",
        "\n",
        "    if(iter%report==0):\n",
        "      print(f\"Epoch: {iter} | Epoch Loss: {epoch_loss} | Accuracy: {epoch_acc} \")\n",
        "\n",
        "  return losses, accuracies, data_test # list of losses at each epoch"
      ],
      "metadata": {
        "id": "nfbfQ3yL0Znw"
      },
      "execution_count": 58,
      "outputs": []
    },
    {
      "cell_type": "code",
      "source": [
        "start = time.time()\n",
        "losses, accuracies, data_test = train(model, train_set, n_epochs=30, report=5)\n",
        "end = time.time()\n",
        "\n",
        "print(f\"training took {end-start}s\")"
      ],
      "metadata": {
        "colab": {
          "base_uri": "https://localhost:8080/"
        },
        "id": "jjCfLylQ08Su",
        "outputId": "e57e0cfd-9f3c-4ff2-a0b3-c7cedd05e8a9"
      },
      "execution_count": 66,
      "outputs": [
        {
          "output_type": "stream",
          "name": "stdout",
          "text": [
            "length of train data: 17062\n",
            "Epoch: 5 | Epoch Loss: 1.0931259404895897 | Accuracy: 0.6789356464658305 \n",
            "Epoch: 10 | Epoch Loss: 0.9088752501665202 | Accuracy: 0.7287539561598875 \n",
            "Epoch: 15 | Epoch Loss: 0.7964573901398737 | Accuracy: 0.760461845035752 \n",
            "Epoch: 20 | Epoch Loss: 0.6946261246177486 | Accuracy: 0.7911147579416247 \n",
            "Epoch: 25 | Epoch Loss: 0.6233602448513633 | Accuracy: 0.8083460321181573 \n",
            "Epoch: 30 | Epoch Loss: 0.5642079085223657 | Accuracy: 0.8237604032352597 \n",
            "training took 661.4048824310303s\n"
          ]
        }
      ]
    },
    {
      "cell_type": "code",
      "source": [
        "print(data_test)"
      ],
      "metadata": {
        "colab": {
          "base_uri": "https://localhost:8080/"
        },
        "id": "Y6451h-cxm3a",
        "outputId": "343f5bd6-8eb3-4fe3-c879-38101493977b"
      },
      "execution_count": 67,
      "outputs": [
        {
          "output_type": "stream",
          "name": "stdout",
          "text": [
            "{'Chinese', 'French', 'Polish', 'Korean', 'Spanish', 'Greek', 'Arabic', 'German', 'English', 'Japanese', 'Scottish', 'Portuguese', 'Czech', 'Russian', 'Vietnamese', 'Italian', 'Irish', 'Dutch'}\n"
          ]
        }
      ]
    },
    {
      "cell_type": "code",
      "source": [
        "input = sent_tensor('Rishabh').to(device)\n",
        "output = model(input)\n",
        "def get_label_from_output(output, output_labels):\n",
        "  _, top_i = output.topk(1)\n",
        "  label_i = top_i[0].item()\n",
        "  return output_labels[label_i], label_i\n",
        "print(get_label_from_output(output, alldata.labels_uniq))"
      ],
      "metadata": {
        "colab": {
          "base_uri": "https://localhost:8080/"
        },
        "id": "6gFIQ-z17_DA",
        "outputId": "eeac4d75-570a-403a-880e-c15456d54bba"
      },
      "execution_count": 68,
      "outputs": [
        {
          "output_type": "stream",
          "name": "stdout",
          "text": [
            "('Russian', 14)\n"
          ]
        }
      ]
    },
    {
      "cell_type": "code",
      "source": [
        "plt.plot(losses)\n",
        "plt.show()"
      ],
      "metadata": {
        "id": "Gva86MLuWQ-l",
        "colab": {
          "base_uri": "https://localhost:8080/",
          "height": 430
        },
        "outputId": "210d1506-f72d-442b-fbf2-ca1bfd2ee628"
      },
      "execution_count": 69,
      "outputs": [
        {
          "output_type": "display_data",
          "data": {
            "text/plain": [
              "<Figure size 640x480 with 1 Axes>"
            ],
            "image/png": "[encoded data removed]"
          },
          "metadata": {}
        }
      ]
    },
    {
      "cell_type": "code",
      "source": [
        "plt.plot(accuracies)\n",
        "plt.show()"
      ],
      "metadata": {
        "colab": {
          "base_uri": "https://localhost:8080/",
          "height": 430
        },
        "id": "WrWKxC8nUVES",
        "outputId": "89666496-7ee5-4ae1-92c7-56948698dea3"
      },
      "execution_count": 70,
      "outputs": [
        {
          "output_type": "display_data",
          "data": {
            "text/plain": [
              "<Figure size 640x480 with 1 Axes>"
            ],
            "image/png": "[encoded data removed]"
          },
          "metadata": {}
        }
      ]
    },
    {
      "cell_type": "code",
      "source": [
        "def evaluate(model, val_data, inv_label_map, classes, ):\n",
        "  model.eval()\n",
        "  correct = 0\n",
        "  total = 0\n",
        "  confusion = torch.zeros(len(classes), len(classes))\n",
        "  confusion = confusion.to(device)\n",
        "  print(f\"length of val data: {len(val_data)}\")\n",
        "  predicted_labels_set = set()\n",
        "  with torch.no_grad():\n",
        "    for i in range(len(val_data)):\n",
        "\n",
        "      (data_item, data_label, data_tensor, label_tensor) = val_data[i]\n",
        "      data_tensor = data_tensor.to(device)\n",
        "      label_tensor = label_tensor.to(device)\n",
        "      output = model(data_tensor)\n",
        "\n",
        "      predicted = torch.argmax(output, dim=1).item()\n",
        "      predicted_label_ = inv_label_map[predicted]  # map back to label string\n",
        "      predicted_labels_set.add(predicted_label_)\n",
        "      # accuracy\n",
        "      predicted_label = torch.argmax(output, dim=1)\n",
        "      correct += (predicted_label == label_tensor).sum().item()\n",
        "      total += label_tensor.size(0)\n",
        "\n",
        "      # Confusion matrix\n",
        "      for true, pred in zip(label_tensor.view(-1), predicted_label.view(-1)):\n",
        "        confusion[true.long(), pred.long()] += 1\n",
        "\n",
        "  for i in range(len(classes)):\n",
        "    denom = confusion[i].sum()\n",
        "    if denom > 0:\n",
        "      confusion[i] /= denom\n",
        "\n",
        "  accuracy = correct/total\n",
        "  print(f\"Evaluation Accuracy: {accuracy}\")\n",
        "\n",
        "  # Set up plot\n",
        "  fig = plt.figure()\n",
        "  ax = fig.add_subplot(111)\n",
        "  cax = ax.matshow(confusion.cpu().numpy()) #numpy uses cpu here so we need to use a cpu version\n",
        "  fig.colorbar(cax)\n",
        "\n",
        "  # Set up axes\n",
        "  ax.set_xticks(np.arange(len(classes)), labels=classes, rotation=90)\n",
        "  ax.set_yticks(np.arange(len(classes)), labels=classes)\n",
        "\n",
        "  # Force label at every tick\n",
        "  ax.xaxis.set_major_locator(ticker.MultipleLocator(1))\n",
        "  ax.yaxis.set_major_locator(ticker.MultipleLocator(1))\n",
        "\n",
        "  # sphinx_gallery_thumbnail_number = 2\n",
        "  plt.show()\n",
        "  return accuracy, predicted_labels_set"
      ],
      "metadata": {
        "id": "8NUV7XMqO5tH"
      },
      "execution_count": 71,
      "outputs": []
    },
    {
      "cell_type": "code",
      "source": [
        "labels = ['Arabic',\n",
        " 'Chinese',\n",
        " 'Czech',\n",
        " 'Dutch',\n",
        " 'English',\n",
        " 'French',\n",
        " 'German',\n",
        " 'Greek',\n",
        " 'Irish',\n",
        " 'Italian',\n",
        " 'Japanese',\n",
        " 'Korean',\n",
        " 'Polish',\n",
        " 'Portuguese',\n",
        " 'Russian',\n",
        " 'Scottish',\n",
        " 'Spanish',\n",
        " 'Vietnamese']\n",
        "label_map = {label: idx for idx, label in enumerate(labels)}\n",
        "inv_label_map = {idx: label for label, idx in label_map.items()}\n"
      ],
      "metadata": {
        "id": "gPA99oZ-46wB"
      },
      "execution_count": 76,
      "outputs": []
    },
    {
      "cell_type": "code",
      "source": [
        "evaluation_accuracy, predicted_labels_set = evaluate(model, val_set, inv_label_map, classes = alldata.labels_uniq)"
      ],
      "metadata": {
        "colab": {
          "base_uri": "https://localhost:8080/",
          "height": 541
        },
        "id": "FZXQ-vLMUct-",
        "outputId": "b8b7a173-7651-48db-ec5b-98268a8874f0"
      },
      "execution_count": 77,
      "outputs": [
        {
          "output_type": "stream",
          "name": "stdout",
          "text": [
            "length of val data: 3012\n",
            "Evaluation Accuracy: 0.799800796812749\n"
          ]
        },
        {
          "output_type": "display_data",
          "data": {
            "text/plain": [
              "<Figure size 640x480 with 2 Axes>"
            ],
            "image/png": "[encoded data removed]"
          },
          "metadata": {}
        }
      ]
    },
    {
      "cell_type": "code",
      "source": [
        "print(len(predicted_labels_set))"
      ],
      "metadata": {
        "colab": {
          "base_uri": "https://localhost:8080/"
        },
        "id": "vrvXRUel4fEz",
        "outputId": "28fd47c0-67d7-4a8d-a47b-158a6e268653"
      },
      "execution_count": 79,
      "outputs": [
        {
          "output_type": "stream",
          "name": "stdout",
          "text": [
            "14\n"
          ]
        }
      ]
    },
    {
      "cell_type": "code",
      "source": [
        "print(alldata.labels_uniq)"
      ],
      "metadata": {
        "colab": {
          "base_uri": "https://localhost:8080/"
        },
        "id": "CqPFoAymXUEK",
        "outputId": "cebc2344-040a-4739-fc14-04c973a41f8e"
      },
      "execution_count": 80,
      "outputs": [
        {
          "output_type": "stream",
          "name": "stdout",
          "text": [
            "['Arabic', 'Chinese', 'Czech', 'Dutch', 'English', 'French', 'German', 'Greek', 'Irish', 'Italian', 'Japanese', 'Korean', 'Polish', 'Portuguese', 'Russian', 'Scottish', 'Spanish', 'Vietnamese']\n"
          ]
        }
      ]
    },
    {
      "cell_type": "code",
      "source": [
        "from collections import Counter\n",
        "print(Counter([label for (_, label, _, _) in train_set]))"
      ],
      "metadata": {
        "colab": {
          "base_uri": "https://localhost:8080/"
        },
        "id": "uLdDyUHldGfB",
        "outputId": "a36b54b2-decb-443a-c539-603ae8732f8f"
      },
      "execution_count": 81,
      "outputs": [
        {
          "output_type": "stream",
          "name": "stdout",
          "text": [
            "Counter({'Russian': 8038, 'English': 3107, 'Arabic': 1690, 'Japanese': 831, 'Italian': 611, 'German': 607, 'Czech': 452, 'Dutch': 255, 'Spanish': 245, 'French': 232, 'Chinese': 224, 'Irish': 196, 'Greek': 175, 'Polish': 121, 'Korean': 83, 'Scottish': 76, 'Vietnamese': 61, 'Portuguese': 58})\n"
          ]
        }
      ]
    },
    {
      "cell_type": "code",
      "source": [],
      "metadata": {
        "id": "W5aDYGIT4Mig"
      },
      "execution_count": null,
      "outputs": []
    }
  ]
}