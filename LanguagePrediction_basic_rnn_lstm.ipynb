{
  "nbformat": 4,
  "nbformat_minor": 0,
  "metadata": {
    "colab": {
      "provenance": [],
      "gpuType": "T4",
      "mount_file_id": "1yhndA8PCRxxH6RT0nMR60rDLbETs-vWn",
      "authorship_tag": "ABX9TyMszC43wLjsZ8aM43YqC2BN",
      "include_colab_link": true
    },
    "kernelspec": {
      "name": "python3",
      "display_name": "Python 3"
    },
    "language_info": {
      "name": "python"
    },
    "accelerator": "GPU"
  },
  "cells": [
    {
      "cell_type": "markdown",
      "metadata": {
        "id": "view-in-github",
        "colab_type": "text"
      },
      "source": [
        "<a href=\"https://colab.research.google.com/github/therishabhmittal-05/NLP/blob/main/LanguagePrediction_basic_rnn_lstm.ipynb\" target=\"_parent\"><img src=\"https://colab.research.google.com/assets/colab-badge.svg\" alt=\"Open In Colab\"/></a>"
      ]
    },
    {
      "cell_type": "markdown",
      "source": [
        "## **Given the word, predict which language it belongs to.**"
      ],
      "metadata": {
        "id": "wgmdz8BEXlL2"
      }
    },
    {
      "cell_type": "code",
      "execution_count": 1,
      "metadata": {
        "id": "-N2k1nFpHZ9w"
      },
      "outputs": [],
      "source": [
        "import torch\n",
        "import torch.nn as nn\n",
        "import numpy as np\n",
        "import random\n",
        "import string\n",
        "import unicodedata\n",
        "from torch.utils.data import Dataset, random_split\n",
        "import glob\n",
        "import os\n",
        "import time\n",
        "import matplotlib.pyplot as plt\n",
        "import matplotlib.ticker as ticker"
      ]
    },
    {
      "cell_type": "code",
      "source": [
        "device = torch.device('cuda' if torch.cuda.is_available() else 'cpu')\n",
        "print(device)"
      ],
      "metadata": {
        "colab": {
          "base_uri": "https://localhost:8080/"
        },
        "id": "i3mGjTINLuHO",
        "outputId": "edace4e5-a703-4b6b-8cd1-3e8f94483b73"
      },
      "execution_count": 2,
      "outputs": [
        {
          "output_type": "stream",
          "name": "stdout",
          "text": [
            "cuda\n"
          ]
        }
      ]
    },
    {
      "cell_type": "code",
      "source": [
        "allowed_chars = string.ascii_letters + \" .,;'\"+ \"_\"\n",
        "n_letters = len(allowed_chars)\n",
        "\n",
        "def unicode_ascii(s):\n",
        "  return \"\".join(\n",
        "      c for c in unicodedata.normalize(\"NFD\", s)\n",
        "      if unicodedata.category(c) != 'Mn'\n",
        "      and c in allowed_chars\n",
        "  )"
      ],
      "metadata": {
        "id": "X54vCHgAHnWF"
      },
      "execution_count": 3,
      "outputs": []
    },
    {
      "cell_type": "code",
      "source": [
        "print(unicode_ascii('Ślusàrski'))"
      ],
      "metadata": {
        "colab": {
          "base_uri": "https://localhost:8080/"
        },
        "id": "WRLyL_ZYJDTP",
        "outputId": "434f6e25-1fa1-4c33-8cb8-faf95a9308b6"
      },
      "execution_count": 4,
      "outputs": [
        {
          "output_type": "stream",
          "name": "stdout",
          "text": [
            "Slusarski\n"
          ]
        }
      ]
    },
    {
      "cell_type": "code",
      "source": [
        "# Letter to index\n",
        "def letter_index(letter):\n",
        "  if letter not in allowed_chars:\n",
        "    return allowed_chars.find('_')\n",
        "  else:\n",
        "     return allowed_chars.find(letter)\n",
        "\n",
        "# Sentence to tensor\n",
        "def sent_tensor(sent):\n",
        "  tensor = torch.zeros(len(sent), 1, n_letters)\n",
        "  for li, letter in enumerate(sent):\n",
        "    tensor[li][0][letter_index(letter)] = 1\n",
        "  return tensor"
      ],
      "metadata": {
        "id": "Mal5OIc1Jj5S"
      },
      "execution_count": 5,
      "outputs": []
    },
    {
      "cell_type": "code",
      "source": [
        "sent_tensor('Rishabh Mittal')\n",
        "sent_tensor('$')"
      ],
      "metadata": {
        "colab": {
          "base_uri": "https://localhost:8080/"
        },
        "id": "__HgLHDkKtR9",
        "outputId": "7a25331f-2bee-4801-8fae-fa4a068531a5"
      },
      "execution_count": 6,
      "outputs": [
        {
          "output_type": "execute_result",
          "data": {
            "text/plain": [
              "tensor([[[0., 0., 0., 0., 0., 0., 0., 0., 0., 0., 0., 0., 0., 0., 0., 0., 0.,\n",
              "          0., 0., 0., 0., 0., 0., 0., 0., 0., 0., 0., 0., 0., 0., 0., 0., 0.,\n",
              "          0., 0., 0., 0., 0., 0., 0., 0., 0., 0., 0., 0., 0., 0., 0., 0., 0.,\n",
              "          0., 0., 0., 0., 0., 0., 1.]]])"
            ]
          },
          "metadata": {},
          "execution_count": 6
        }
      ]
    },
    {
      "cell_type": "code",
      "source": [
        "class LangDs(Dataset):\n",
        "\n",
        "  def __init__(self, data_dir):\n",
        "    self.data_dir = data_dir\n",
        "    labels_set = set()\n",
        "\n",
        "    self.data = []\n",
        "    self.data_tensors = []\n",
        "    self.labels = []\n",
        "    self.label_tensors=[]\n",
        "\n",
        "    text_files = glob.glob(os.path.join(data_dir, '*txt'))\n",
        "    for filename in text_files:\n",
        "      label = os.path.splitext(os.path.basename(filename))[0]\n",
        "      labels_set.add(label)\n",
        "      lines = open(filename, encoding='utf-8').read().strip().split('\\n')\n",
        "      for name in lines:\n",
        "        self.data.append(name)\n",
        "        self.data_tensors.append(sent_tensor(name))\n",
        "        self.labels.append(label)\n",
        "\n",
        "      self.labels_uniq = list(labels_set)\n",
        "      for idx in range(len(self.labels)):\n",
        "        temp_tensor = torch.tensor([self.labels_uniq.index(self.labels[idx])], dtype=torch.long)\n",
        "        self.label_tensors.append(temp_tensor)\n",
        "\n",
        "  def __len__(self):\n",
        "    return len(self.data)\n",
        "\n",
        "  def __getitem__(self, idx):\n",
        "    data_item = self.data[idx]\n",
        "    data_label = self.labels[idx]\n",
        "    data_tensor = self.data_tensors[idx]\n",
        "    label_tensor = self.label_tensors[idx]\n",
        "\n",
        "    return data_item, data_label, data_tensor, label_tensor"
      ],
      "metadata": {
        "id": "UCnXShkSKvXV"
      },
      "execution_count": 7,
      "outputs": []
    },
    {
      "cell_type": "code",
      "source": [
        "alldata = LangDs('/content/drive/MyDrive/Colab Notebooks/data/data/names')"
      ],
      "metadata": {
        "id": "Ax2_oqykNAqr"
      },
      "execution_count": 8,
      "outputs": []
    },
    {
      "cell_type": "code",
      "source": [
        "train_set, val_set = random_split(alldata,\n",
        " [(int)(len(alldata)*0.85), len(alldata) - (int)(len(alldata)*0.85)],\n",
        "                                  generator=torch.Generator().manual_seed(42))"
      ],
      "metadata": {
        "id": "WDkfP-78P7Ej"
      },
      "execution_count": 9,
      "outputs": []
    },
    {
      "cell_type": "code",
      "source": [
        "print(len(train_set))"
      ],
      "metadata": {
        "colab": {
          "base_uri": "https://localhost:8080/"
        },
        "id": "gdGQcXff5WnD",
        "outputId": "f14562da-65b4-4e1b-bca7-dc479532fcab"
      },
      "execution_count": 10,
      "outputs": [
        {
          "output_type": "stream",
          "name": "stdout",
          "text": [
            "17062\n"
          ]
        }
      ]
    },
    {
      "cell_type": "code",
      "source": [
        "val = set()\n",
        "for i in range(len(val_set)):\n",
        "  val.add(val_set[i][1])\n",
        "\n",
        "print(val)"
      ],
      "metadata": {
        "colab": {
          "base_uri": "https://localhost:8080/"
        },
        "id": "TyhXxUqedVUS",
        "outputId": "728dcbf8-8491-46c8-817d-d620cfa25623"
      },
      "execution_count": 26,
      "outputs": [
        {
          "output_type": "stream",
          "name": "stdout",
          "text": [
            "{'German', 'Scottish', 'Vietnamese', 'Czech', 'Italian', 'Russian', 'Portuguese', 'Greek', 'Irish', 'Polish', 'Korean', 'English', 'Spanish', 'French', 'Arabic', 'Dutch', 'Japanese', 'Chinese'}\n"
          ]
        }
      ]
    },
    {
      "cell_type": "code",
      "source": [
        "indices = list(range(len(train_set)))\n",
        "print(len(indices))\n",
        "random.shuffle(indices)\n",
        "batches = np.array_split(indices, len(indices) // 64)\n",
        "print(len(batches[37]))"
      ],
      "metadata": {
        "colab": {
          "base_uri": "https://localhost:8080/"
        },
        "id": "6jDLxGQxTOhW",
        "outputId": "631bc8ca-c8a4-475b-8083-1d0b02410886"
      },
      "execution_count": 12,
      "outputs": [
        {
          "output_type": "stream",
          "name": "stdout",
          "text": [
            "17062\n",
            "65\n"
          ]
        }
      ]
    },
    {
      "cell_type": "code",
      "source": [
        "class LangModel(nn.Module):\n",
        "  def __init__(self, input_size, hidden_size, output_size):\n",
        "    super(LangModel, self).__init__()\n",
        "\n",
        "    self.lstm = nn.LSTM(input_size, hidden_size)\n",
        "    self.fc = nn.Linear(hidden_size, output_size)\n",
        "    self.softmax = nn.LogSoftmax(dim=1)\n",
        "\n",
        "  def forward(self, senttensor):\n",
        "    lstm_out, (hn, cn) = self.lstm(senttensor)\n",
        "    ahat = self.fc(hn[-1])\n",
        "    yhat = self.softmax(ahat)\n",
        "    return yhat"
      ],
      "metadata": {
        "id": "V2S_K0ToqEZY"
      },
      "execution_count": 13,
      "outputs": []
    },
    {
      "cell_type": "code",
      "source": [
        "n_hidden = 128\n",
        "model = LangModel(n_letters, n_hidden, len(alldata.labels_uniq)).to(device)\n",
        "print(\"Device: cuda\" if next(model.parameters()).is_cuda else \"Device: cpu\")\n",
        "print(model)"
      ],
      "metadata": {
        "colab": {
          "base_uri": "https://localhost:8080/"
        },
        "id": "IbH0Htx4sMUw",
        "outputId": "d575dcab-ee4f-49ba-89c2-060953f7f4f6"
      },
      "execution_count": 14,
      "outputs": [
        {
          "output_type": "stream",
          "name": "stdout",
          "text": [
            "Device: cuda\n",
            "LangModel(\n",
            "  (lstm): LSTM(58, 128)\n",
            "  (fc): Linear(in_features=128, out_features=18, bias=True)\n",
            "  (softmax): LogSoftmax(dim=1)\n",
            ")\n"
          ]
        }
      ]
    },
    {
      "cell_type": "code",
      "source": [
        "input = sent_tensor('Alexandra').to(device)\n",
        "output = model(input)\n",
        "def get_label_from_output(output, output_labels):\n",
        "  _, top_i = output.topk(1)\n",
        "  label_i = top_i[0].item()\n",
        "  return output_labels[label_i], label_i\n",
        "print(get_label_from_output(output, alldata.labels_uniq))"
      ],
      "metadata": {
        "colab": {
          "base_uri": "https://localhost:8080/"
        },
        "id": "VOG4iUCLsZOA",
        "outputId": "47435133-75a8-4e5e-b305-fd11a80a8146"
      },
      "execution_count": 15,
      "outputs": [
        {
          "output_type": "stream",
          "name": "stdout",
          "text": [
            "('Portuguese', 6)\n"
          ]
        }
      ]
    },
    {
      "cell_type": "code",
      "source": [
        "def train(model, train_data, n_epochs=10, batch_size=64, report=50, lr = 0.2, criterion = nn.NLLLoss()):\n",
        "  losses=[] # to store loss after each epoch for plotting\n",
        "  accuracies=[]\n",
        "  model.train() # train mode\n",
        "  optimizer = torch.optim.SGD(model.parameters(), lr=lr)\n",
        "  data_test = set()\n",
        "  print(f\"length of train data: {len(train_data)}\")\n",
        "  for iter in range(1, n_epochs+1):\n",
        "    running_loss = 0.0 # One epoch loss\n",
        "\n",
        "    # One epoch accuracy\n",
        "    correct = 0.0\n",
        "    total = 0.0\n",
        "\n",
        "    # create some minibatches\n",
        "    # we cannot use dataloaders because each of our names is a different length\n",
        "    indices = list(range(len(train_data)))\n",
        "    random.shuffle(indices)\n",
        "    batches = np.array_split(indices, max(1, len(indices) // batch_size))\n",
        "\n",
        "    for idx, batch in enumerate(batches):\n",
        "      batch_loss = 0.0 # per batch loss, added to running loss after each batch run\n",
        "      optimizer.zero_grad()\n",
        "\n",
        "      # For each sample in the batch\n",
        "      for i in batch:\n",
        "        (data_item, data_label, data_tensor, label_tensor) = train_data[i]\n",
        "        data_test.add(data_label)\n",
        "        data_tensor = data_tensor.to(device)\n",
        "        label_tensor = label_tensor.to(device)\n",
        "        output = model(data_tensor)\n",
        "        loss = criterion(output, label_tensor)\n",
        "        batch_loss += loss\n",
        "        predicted_label = torch.argmax(output, dim=1)\n",
        "        correct += (predicted_label == label_tensor).sum().item()\n",
        "        total += label_tensor.size(0)\n",
        "\n",
        "      batch_loss /= len(batch)\n",
        "      batch_loss.backward()\n",
        "      nn.utils.clip_grad_norm_(model.parameters(), max_norm=3)\n",
        "      optimizer.step()\n",
        "      running_loss += batch_loss.item()\n",
        "\n",
        "    epoch_loss = running_loss/len(batches)\n",
        "    losses.append(epoch_loss)\n",
        "\n",
        "    epoch_acc = correct/total\n",
        "    accuracies.append(epoch_acc)\n",
        "\n",
        "    if(iter%report==0):\n",
        "      print(f\"Epoch: {iter} | Epoch Loss: {epoch_loss} | Accuracy: {epoch_acc} \")\n",
        "\n",
        "  return losses, accuracies, data_test # list of losses at each epoch"
      ],
      "metadata": {
        "id": "nfbfQ3yL0Znw"
      },
      "execution_count": 17,
      "outputs": []
    },
    {
      "cell_type": "code",
      "source": [],
      "metadata": {
        "id": "7KKiT_dFxgi6"
      },
      "execution_count": null,
      "outputs": []
    },
    {
      "cell_type": "code",
      "source": [
        "start = time.time()\n",
        "losses, accuracies, data_test = train(model, train_set, n_epochs=2, report=5)\n",
        "end = time.time()\n",
        "\n",
        "print(f\"training took {end-start}s\")"
      ],
      "metadata": {
        "colab": {
          "base_uri": "https://localhost:8080/"
        },
        "id": "jjCfLylQ08Su",
        "outputId": "3334f89a-887b-4b46-9aa5-f024e98e8dbb"
      },
      "execution_count": 19,
      "outputs": [
        {
          "output_type": "stream",
          "name": "stdout",
          "text": [
            "length of train data: 17062\n",
            "training took 45.539283752441406s\n"
          ]
        }
      ]
    },
    {
      "cell_type": "code",
      "source": [
        "print(data_test)"
      ],
      "metadata": {
        "colab": {
          "base_uri": "https://localhost:8080/"
        },
        "id": "Y6451h-cxm3a",
        "outputId": "83d391a1-35ab-4a69-8885-a8f9508d2ebb"
      },
      "execution_count": 20,
      "outputs": [
        {
          "output_type": "stream",
          "name": "stdout",
          "text": [
            "{'German', 'Scottish', 'Vietnamese', 'Czech', 'Italian', 'Russian', 'Dutch', 'Portuguese', 'Greek', 'Irish', 'Polish', 'Korean', 'Spanish', 'French', 'Arabic', 'English', 'Japanese', 'Chinese'}\n"
          ]
        }
      ]
    },
    {
      "cell_type": "code",
      "source": [
        "input = sent_tensor('Jing').to(device)\n",
        "output = model(input)\n",
        "def get_label_from_output(output, output_labels):\n",
        "  _, top_i = output.topk(1)\n",
        "  label_i = top_i[0].item()\n",
        "  return output_labels[label_i], label_i\n",
        "print(get_label_from_output(output, alldata.labels_uniq))"
      ],
      "metadata": {
        "colab": {
          "base_uri": "https://localhost:8080/"
        },
        "id": "6gFIQ-z17_DA",
        "outputId": "aadce7f0-03ec-4a57-971d-24ffe11d6143"
      },
      "execution_count": 18,
      "outputs": [
        {
          "output_type": "stream",
          "name": "stdout",
          "text": [
            "('Portuguese', 2)\n"
          ]
        }
      ]
    },
    {
      "cell_type": "code",
      "source": [
        "plt.plot(losses)\n",
        "plt.show()"
      ],
      "metadata": {
        "id": "Gva86MLuWQ-l",
        "colab": {
          "base_uri": "https://localhost:8080/",
          "height": 430
        },
        "outputId": "634ec97f-cf59-4724-abe6-ad008d908d2c"
      },
      "execution_count": 21,
      "outputs": [
        {
          "output_type": "display_data",
          "data": {
            "text/plain": [
              "<Figure size 640x480 with 1 Axes>"
            ],
            "image/png": "[encoded data removed]"
          },
          "metadata": {}
        }
      ]
    },
    {
      "cell_type": "code",
      "source": [
        "plt.plot(accuracies)\n",
        "plt.show()"
      ],
      "metadata": {
        "colab": {
          "base_uri": "https://localhost:8080/",
          "height": 430
        },
        "id": "WrWKxC8nUVES",
        "outputId": "665b0d2e-4621-4d7c-a15d-b6ff3eec27f0"
      },
      "execution_count": 22,
      "outputs": [
        {
          "output_type": "display_data",
          "data": {
            "text/plain": [
              "<Figure size 640x480 with 1 Axes>"
            ],
            "image/png": "[encoded data removed]"
          },
          "metadata": {}
        }
      ]
    },
    {
      "cell_type": "code",
      "source": [
        "def evaluate(model, val_data, inv_label_map, classes, ):\n",
        "  model.eval()\n",
        "  correct = 0\n",
        "  total = 0\n",
        "  confusion = torch.zeros(len(classes), len(classes))\n",
        "  confusion = confusion.to(device)\n",
        "  print(f\"length of val data: {len(val_data)}\")\n",
        "  predicted_labels_set = set()\n",
        "  with torch.no_grad():\n",
        "    for i in range(len(val_data)):\n",
        "\n",
        "      (data_item, data_label, data_tensor, label_tensor) = val_data[i]\n",
        "      data_tensor = data_tensor.to(device)\n",
        "      label_tensor = label_tensor.to(device)\n",
        "      output = model(data_tensor)\n",
        "\n",
        "      predicted = torch.argmax(output, dim=1).item()\n",
        "      predicted_label_ = inv_label_map[predicted]  # map back to label string\n",
        "      predicted_labels_set.add(predicted_label_)\n",
        "      # accuracy\n",
        "      predicted_label = torch.argmax(output, dim=1)\n",
        "      correct += (predicted_label == label_tensor).sum().item()\n",
        "      total += label_tensor.size(0)\n",
        "\n",
        "      # Confusion matrix\n",
        "      for true, pred in zip(label_tensor.view(-1), predicted_label.view(-1)):\n",
        "        confusion[true.long(), pred.long()] += 1\n",
        "\n",
        "  for i in range(len(classes)):\n",
        "    denom = confusion[i].sum()\n",
        "    if denom > 0:\n",
        "      confusion[i] /= denom\n",
        "\n",
        "  accuracy = correct/total\n",
        "  print(f\"Evaluation Accuracy: {accuracy}\")\n",
        "\n",
        "  # Set up plot\n",
        "  fig = plt.figure()\n",
        "  ax = fig.add_subplot(111)\n",
        "  cax = ax.matshow(confusion.cpu().numpy()) #numpy uses cpu here so we need to use a cpu version\n",
        "  fig.colorbar(cax)\n",
        "\n",
        "  # Set up axes\n",
        "  ax.set_xticks(np.arange(len(classes)), labels=classes, rotation=90)\n",
        "  ax.set_yticks(np.arange(len(classes)), labels=classes)\n",
        "\n",
        "  # Force label at every tick\n",
        "  ax.xaxis.set_major_locator(ticker.MultipleLocator(1))\n",
        "  ax.yaxis.set_major_locator(ticker.MultipleLocator(1))\n",
        "\n",
        "  # sphinx_gallery_thumbnail_number = 2\n",
        "  plt.show()\n",
        "  return accuracy, predicted_labels_set"
      ],
      "metadata": {
        "id": "8NUV7XMqO5tH"
      },
      "execution_count": 34,
      "outputs": []
    },
    {
      "cell_type": "code",
      "source": [
        "label_map = {\n",
        "    'Greek': 0,\n",
        "    'Arabic': 1,\n",
        "    'Portuguese': 2,\n",
        "    'Russian': 3,\n",
        "    'Scottish': 4,\n",
        "    'Irish': 5,\n",
        "    'Italian': 6,\n",
        "    'Japanese': 7,\n",
        "    'Dutch': 8,\n",
        "    'French': 9,\n",
        "    'Polish': 10,\n",
        "    'Korean': 11,\n",
        "    'Spanish': 12,\n",
        "    'Chinese': 13,\n",
        "    'German': 14,\n",
        "    'Vietnamese': 15,\n",
        "    'English': 16,\n",
        "    'Czech': 17\n",
        "}\n",
        "inv_label_map = {v: k for k, v in label_map.items()}\n"
      ],
      "metadata": {
        "id": "gPA99oZ-46wB"
      },
      "execution_count": 35,
      "outputs": []
    },
    {
      "cell_type": "code",
      "source": [
        "evaluation_accuracy, predicted_labels_set = evaluate(model, val_set, inv_label_map, classes = alldata.labels_uniq)"
      ],
      "metadata": {
        "colab": {
          "base_uri": "https://localhost:8080/",
          "height": 541
        },
        "id": "FZXQ-vLMUct-",
        "outputId": "548e10e9-8979-4c67-bac0-6ef0e297ebd9"
      },
      "execution_count": 36,
      "outputs": [
        {
          "output_type": "stream",
          "name": "stdout",
          "text": [
            "length of val data: 3012\n",
            "Evaluation Accuracy: 0.4123505976095618\n"
          ]
        },
        {
          "output_type": "display_data",
          "data": {
            "text/plain": [
              "<Figure size 640x480 with 2 Axes>"
            ],
            "image/png": "[encoded data removed]"
          },
          "metadata": {}
        }
      ]
    },
    {
      "cell_type": "code",
      "source": [
        "print(predicted_labels_set)"
      ],
      "metadata": {
        "colab": {
          "base_uri": "https://localhost:8080/"
        },
        "id": "vrvXRUel4fEz",
        "outputId": "49e861a7-c64b-4d7b-ebe8-f0f70c5d2a69"
      },
      "execution_count": 37,
      "outputs": [
        {
          "output_type": "stream",
          "name": "stdout",
          "text": [
            "{'Greek', 'Russian'}\n"
          ]
        }
      ]
    },
    {
      "cell_type": "code",
      "source": [
        "print(alldata.labels_uniq)"
      ],
      "metadata": {
        "colab": {
          "base_uri": "https://localhost:8080/"
        },
        "id": "CqPFoAymXUEK",
        "outputId": "3487afd3-aae2-43f7-cee9-16920a671f55"
      },
      "execution_count": 25,
      "outputs": [
        {
          "output_type": "stream",
          "name": "stdout",
          "text": [
            "['Greek', 'Arabic', 'Portuguese', 'Russian', 'Scottish', 'Irish', 'Italian', 'Japanese', 'Dutch', 'French', 'Polish', 'Korean', 'Spanish', 'Chinese', 'German', 'Vietnamese', 'English', 'Czech']\n"
          ]
        }
      ]
    },
    {
      "cell_type": "code",
      "source": [
        "from collections import Counter\n",
        "print(Counter([label for (_, label, _, _) in train_set]))"
      ],
      "metadata": {
        "colab": {
          "base_uri": "https://localhost:8080/"
        },
        "id": "uLdDyUHldGfB",
        "outputId": "10d08fb5-3bec-45c2-b8b6-b71dd24d1a8f"
      },
      "execution_count": 38,
      "outputs": [
        {
          "output_type": "stream",
          "name": "stdout",
          "text": [
            "Counter({'Russian': 8038, 'English': 3107, 'Arabic': 1690, 'Japanese': 831, 'Italian': 611, 'German': 607, 'Czech': 452, 'Dutch': 255, 'Spanish': 245, 'French': 232, 'Chinese': 224, 'Irish': 196, 'Greek': 175, 'Polish': 121, 'Korean': 83, 'Scottish': 76, 'Vietnamese': 61, 'Portuguese': 58})\n"
          ]
        }
      ]
    },
    {
      "cell_type": "code",
      "source": [],
      "metadata": {
        "id": "W5aDYGIT4Mig"
      },
      "execution_count": null,
      "outputs": []
    }
  ]
}