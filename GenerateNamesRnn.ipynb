{
  "nbformat": 4,
  "nbformat_minor": 0,
  "metadata": {
    "colab": {
      "provenance": [],
      "mount_file_id": "1Y_buZAGxQKBDK0cOwz3NpmknlAHrH3-4",
      "authorship_tag": "ABX9TyNtlSZkDTDbkVhALojf6GrI",
      "include_colab_link": true
    },
    "kernelspec": {
      "name": "python3",
      "display_name": "Python 3"
    },
    "language_info": {
      "name": "python"
    }
  },
  "cells": [
    {
      "cell_type": "markdown",
      "metadata": {
        "id": "view-in-github",
        "colab_type": "text"
      },
      "source": [
        "<a href=\"https://colab.research.google.com/github/therishabhmittal-05/NLP/blob/main/GenerateNamesRnn.ipynb\" target=\"_parent\"><img src=\"https://colab.research.google.com/assets/colab-badge.svg\" alt=\"Open In Colab\"/></a>"
      ]
    },
    {
      "cell_type": "code",
      "execution_count": 27,
      "metadata": {
        "id": "JWH9cD6qJECr"
      },
      "outputs": [],
      "source": [
        "import torch\n",
        "import torch.nn as nn\n",
        "import torch.optim as optim\n",
        "import unicodedata\n",
        "import string\n",
        "import glob\n",
        "from io import open\n",
        "import os"
      ]
    },
    {
      "cell_type": "code",
      "source": [
        "all_chars = string.ascii_letters + \" ,.;'-\"\n",
        "n_letters = len(all_chars) + 1"
      ],
      "metadata": {
        "id": "J77JbZ0tJRqI"
      },
      "execution_count": 14,
      "outputs": []
    },
    {
      "cell_type": "code",
      "source": [
        "def findFiles(path): return glob.glob(path)"
      ],
      "metadata": {
        "id": "dpf7RkecJo3v"
      },
      "execution_count": 15,
      "outputs": []
    },
    {
      "cell_type": "code",
      "source": [
        "def unicode_ascii(s):\n",
        "  return \"\".join(\n",
        "      c for c in unicodedata.normalize(\"NFD\", s)\n",
        "      if unicodedata.category(c) != 'Mn'\n",
        "      and c in all_chars\n",
        "  )"
      ],
      "metadata": {
        "id": "DB3JCItfJ0ps"
      },
      "execution_count": 16,
      "outputs": []
    },
    {
      "cell_type": "code",
      "source": [
        "def readFiles(filename):\n",
        "  with open (filename, encoding='utf-8') as file:\n",
        "    return [unicode_ascii(line.strip()) for line in file]"
      ],
      "metadata": {
        "id": "ARG_p6OlJ3-A"
      },
      "execution_count": 17,
      "outputs": []
    },
    {
      "cell_type": "code",
      "source": [
        "category_dict = {}\n",
        "all_categories= []\n",
        "\n",
        "for filename in findFiles('/content/drive/MyDrive/Colab Notebooks/data/data/names/*.txt'):\n",
        "  category = os.path.splitext(os.path.basename(filename))[0]\n",
        "  all_categories.append(category)\n",
        "  lines = readFiles(filename)\n",
        "  category_dict[category] = lines\n",
        "\n",
        "n_cat = len(all_categories)"
      ],
      "metadata": {
        "id": "KgQdg-z5Khxp"
      },
      "execution_count": 19,
      "outputs": []
    },
    {
      "cell_type": "code",
      "source": [
        "print(len(category_dict[\"Russian\"]))"
      ],
      "metadata": {
        "colab": {
          "base_uri": "https://localhost:8080/"
        },
        "id": "_RyAVGv4Lk39",
        "outputId": "6a736163-42c3-48fe-db11-9e598485c863"
      },
      "execution_count": 25,
      "outputs": [
        {
          "output_type": "stream",
          "name": "stdout",
          "text": [
            "9408\n"
          ]
        }
      ]
    },
    {
      "cell_type": "code",
      "source": [
        "class GenRNN(nn.Module):\n",
        "  def __init__(self, ip_size, op_size, h_size):\n",
        "    super(GenRNN, self).__init__()\n",
        "    self.h_size = h_size\n",
        "\n",
        "    self.i2h = nn.Linear(n_cat + ip_size + h_size, h_size)\n",
        "    self.i2o = nn.Linear(n_cat + ip_size + h_size, op_size)\n",
        "    self.o2o = nn.Linear(h_size+op_size, op_size)\n",
        "    self.dropout = nn.Dropout(0.1)\n",
        "    self.softmax = nn.LogSoftmax(dim=1)\n",
        "\n",
        "  def forward(self, category, input, hidden):\n",
        "    ip_combined = torch.cat((category, input, hidden),1)\n",
        "    hidden = self.i2h(ip_combined)\n",
        "    output = self.i2o(ip_combined)\n",
        "\n",
        "    op_combined = torch.cat((hidden, output),1)\n",
        "    output = self.o20(op_combined)\n",
        "    output = self.dropout(output)\n",
        "    output = self.softmax(output)\n",
        "    return output, hidden\n",
        "\n",
        "  def initHidden(self):\n",
        "    return torch.zeros(1, self.h_size)"
      ],
      "metadata": {
        "id": "t6CJz6LGPUn4"
      },
      "execution_count": 28,
      "outputs": []
    },
    {
      "cell_type": "code",
      "source": [],
      "metadata": {
        "id": "H2QXjNYuQ3OK"
      },
      "execution_count": null,
      "outputs": []
    }
  ]
}